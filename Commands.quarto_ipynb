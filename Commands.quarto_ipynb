{
  "cells": [
    {
      "cell_type": "markdown",
      "metadata": {},
      "source": [
        "# Commands\n",
        "\n",
        "\n",
        "mkdir\n",
        "\n",
        "```{bash}\n",
        "cd\n"
      ],
      "id": "63b6a2f8"
    }
  ],
  "metadata": {
    "kernelspec": {
      "display_name": "Python 3",
      "language": "python",
      "name": "python3"
    }
  },
  "nbformat": 4,
  "nbformat_minor": 5
}